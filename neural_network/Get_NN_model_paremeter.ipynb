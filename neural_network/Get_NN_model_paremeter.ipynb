{
 "cells": [
  {
   "cell_type": "code",
   "execution_count": 1,
   "metadata": {},
   "outputs": [],
   "source": [
    "import torch\n",
    "import numpy as np\n",
    "import pandas as  pd\n",
    "import os"
   ]
  },
  {
   "cell_type": "code",
   "execution_count": 2,
   "metadata": {},
   "outputs": [],
   "source": [
    "device = torch.device('cpu', 0)\n",
    "tensor_args = {'device': device, 'dtype': torch.float32}\n",
    "fname = 'model/self/2024_07_03_11_07_18/self_collision.pkl'\n",
    "model = torch.load(fname)\n",
    "n_layers = 4 # [7, 128, 64, 32, 1]"
   ]
  },
  {
   "cell_type": "code",
   "execution_count": 3,
   "metadata": {},
   "outputs": [],
   "source": [
    "for layer in range(n_layers):\n",
    "    globals()['weight_{}'.format(str(layer))] = pd.DataFrame(model[\"fc.MLP.L{}.weight\".format(layer)].cpu().numpy())\n",
    "    globals()['bias_{}'.format(str(layer))] = pd.DataFrame(model[\"fc.MLP.L{}.bias\".format(layer)].cpu().numpy())"
   ]
  },
  {
   "cell_type": "code",
   "execution_count": 4,
   "metadata": {},
   "outputs": [
    {
     "name": "stdout",
     "output_type": "stream",
     "text": [
      "(128, 1)\n",
      "(128, 21)\n"
     ]
    }
   ],
   "source": [
    "print(bias_0.shape)\n",
    "print(weight_0.shape)"
   ]
  },
  {
   "cell_type": "code",
   "execution_count": 5,
   "metadata": {},
   "outputs": [],
   "source": [
    "if not os.path.exists('parameter'): os.makedirs('parameter')\n",
    "for layer in range(n_layers):\n",
    "    eval(\"weight_\" + str(layer) + \".to_csv('parameter/weight_{}.txt'.format(layer), sep = ' ', index=False, header=False)\")\n",
    "    eval(\"bias_\" + str(layer) + \".to_csv('parameter/bias_{}.txt'.format(layer), sep = ' ', index=False, header=False)\")"
   ]
  },
  {
   "cell_type": "code",
   "execution_count": null,
   "metadata": {},
   "outputs": [],
   "source": []
  }
 ],
 "metadata": {
  "kernelspec": {
   "display_name": "junheon",
   "language": "python",
   "name": "python3"
  },
  "language_info": {
   "codemirror_mode": {
    "name": "ipython",
    "version": 3
   },
   "file_extension": ".py",
   "mimetype": "text/x-python",
   "name": "python",
   "nbconvert_exporter": "python",
   "pygments_lexer": "ipython3",
   "version": "3.8.16"
  },
  "orig_nbformat": 4
 },
 "nbformat": 4,
 "nbformat_minor": 2
}
