{
 "cells": [
  {
   "cell_type": "code",
   "execution_count": 1,
   "metadata": {},
   "outputs": [],
   "source": [
    "import torch\n",
    "import numpy as np\n",
    "import pandas as  pd"
   ]
  },
  {
   "cell_type": "code",
   "execution_count": 2,
   "metadata": {},
   "outputs": [],
   "source": [
    "device = torch.device('cpu', 0)\n",
    "tensor_args = {'device': device, 'dtype': torch.float32}\n",
    "s = 256\n",
    "n_layers = 5\n",
    "batch_size = 50000\n",
    "fname = 'model/sdf_%dx%d_mesh_%d.pt'%(s,n_layers,batch_size)\n",
    "model = torch.load(fname)"
   ]
  },
  {
   "cell_type": "code",
   "execution_count": 3,
   "metadata": {},
   "outputs": [],
   "source": [
    "for layer in range(n_layers):\n",
    "    globals()['weight_{}'.format(str(layer))] = pd.DataFrame(model[\"model_state_dict\"][\"layers.0.{}.0.weight\".format(str(layer))].cpu().numpy())\n",
    "    globals()['bias_{}'.format(str(layer))] = pd.DataFrame(model[\"model_state_dict\"][\"layers.0.{}.0.bias\".format(str(layer))].cpu().numpy())"
   ]
  },
  {
   "cell_type": "code",
   "execution_count": 4,
   "metadata": {},
   "outputs": [
    {
     "name": "stdout",
     "output_type": "stream",
     "text": [
      "          0\n",
      "0  0.510880\n",
      "1  0.175256\n",
      "2  0.093785\n",
      "3  0.181417\n",
      "4  0.107997\n",
      "5  0.080198\n",
      "6  0.411597\n",
      "7  0.392454\n",
      "8  0.376608\n",
      "        0         1         2         3         4         5         6    \\\n",
      "0  0.010748  0.010548 -0.004566  0.001419  0.065475  0.148787  0.000924   \n",
      "1  0.401605 -0.017507 -0.006329  0.003451  0.058598  0.094624 -0.000800   \n",
      "2 -0.023676  0.011306 -0.010755  0.003204  0.078714  0.089998  0.000736   \n",
      "3 -0.007881  0.013845  0.000484  0.001211  0.270805  0.009538  0.001524   \n",
      "4 -0.023770  0.048555  0.083448  0.002237 -0.227642  0.048979 -0.000029   \n",
      "5 -0.020666 -0.169835  0.106797 -0.000920 -0.116626 -0.030354 -0.000846   \n",
      "6 -0.009943 -0.276626  0.130287 -0.003434 -0.101121 -0.061426  0.000274   \n",
      "7 -0.009790 -0.218414  0.120277 -0.003360 -0.095463 -0.054564  0.000382   \n",
      "8 -0.014250 -0.233640  0.240805  0.003120 -0.081828 -0.001831 -0.000843   \n",
      "\n",
      "        7         8         9    ...       246       247       248       249  \\\n",
      "0 -0.000274 -0.000849  0.016056  ...  0.001418 -0.014380  0.001139 -0.000573   \n",
      "1 -0.000250 -0.000343  0.025529  ...  0.002313 -0.005765  0.011936  0.000431   \n",
      "2  0.000081 -0.000766  0.016622  ...  0.000204 -0.006887  0.000061  0.001979   \n",
      "3 -0.002126  0.001639  0.025009  ...  0.000399 -0.001939  0.002897  0.000390   \n",
      "4  0.000470 -0.000068  0.151148  ... -0.000355  0.004916 -0.039274  0.001800   \n",
      "5 -0.000568 -0.000497  0.167374  ...  0.000645 -0.043381 -0.251537  0.002596   \n",
      "6 -0.000224  0.000378  0.110279  ...  0.001087 -0.084681  1.047242  0.001821   \n",
      "7  0.002101  0.001394  0.152705  ... -0.000788  0.256654 -0.050691  0.003658   \n",
      "8  0.001739 -0.000913  0.087759  ...  0.001081  0.891975 -0.089129  0.001842   \n",
      "\n",
      "        250       251       252       253       254       255  \n",
      "0  0.000257  0.086884 -0.000745 -0.012924  0.015359 -0.002950  \n",
      "1  0.000755  0.160347 -0.000676 -0.008815  0.007430  0.037644  \n",
      "2  0.001263  0.058154 -0.000750 -0.009624 -0.040249 -0.671841  \n",
      "3 -0.000749  0.134014 -0.000294  0.001418 -0.233575  0.042283  \n",
      "4  0.001617  0.129220 -0.000876 -0.018413  0.156331  0.027301  \n",
      "5 -0.000179  0.050953  0.000703 -0.010486  0.012288 -0.002683  \n",
      "6 -0.000251  0.012808  0.000605  0.005337  0.102525 -0.007869  \n",
      "7  0.000334  0.022947  0.000426 -0.006096  0.034958  0.004317  \n",
      "8 -0.001093  0.009611  0.001162 -0.014343  0.066695  0.014081  \n",
      "\n",
      "[9 rows x 256 columns]\n"
     ]
    }
   ],
   "source": [
    "print(bias_4)\n",
    "print(weight_4)"
   ]
  },
  {
   "cell_type": "code",
   "execution_count": 5,
   "metadata": {},
   "outputs": [],
   "source": [
    "for layer in range(n_layers):\n",
    "    eval(\"weight_\" + str(layer) + \".to_csv('parameter/weight_{}.txt'.format(layer), sep = ' ', index=False, header=False)\")\n",
    "    eval(\"bias_\" + str(layer) + \".to_csv('parameter/bias_{}.txt'.format(layer), sep = ' ', index=False, header=False)\")"
   ]
  },
  {
   "cell_type": "code",
   "execution_count": null,
   "metadata": {},
   "outputs": [],
   "source": []
  }
 ],
 "metadata": {
  "kernelspec": {
   "display_name": "junheon",
   "language": "python",
   "name": "python3"
  },
  "language_info": {
   "codemirror_mode": {
    "name": "ipython",
    "version": 3
   },
   "file_extension": ".py",
   "mimetype": "text/x-python",
   "name": "python",
   "nbconvert_exporter": "python",
   "pygments_lexer": "ipython3",
   "version": "3.8.16"
  },
  "orig_nbformat": 4
 },
 "nbformat": 4,
 "nbformat_minor": 2
}
