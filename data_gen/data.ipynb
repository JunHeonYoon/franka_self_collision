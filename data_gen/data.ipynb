{
 "cells": [
  {
   "cell_type": "code",
   "execution_count": 5,
   "metadata": {},
   "outputs": [],
   "source": [
    "import pickle\n",
    "import numpy as np"
   ]
  },
  {
   "cell_type": "code",
   "execution_count": 6,
   "metadata": {},
   "outputs": [
    {
     "name": "stdout",
     "output_type": "stream",
     "text": [
      "q1 shape:  (10000000, 7)\n",
      "min_dist1 shape:  (10000000,)\n"
     ]
    }
   ],
   "source": [
    "file_name = \"data/2024_07_03_13_24_42/dataset.pickle\"\n",
    "\n",
    "with open(file_name, 'rb') as f:\n",
    "    dataset = pickle.load(f)\n",
    "    q1 = dataset['q']\n",
    "    min_dist1 = dataset['min_dist']*100 # meter to centi-meter\n",
    "print('q1 shape: ', q1.shape)\n",
    "print('min_dist1 shape: ', min_dist1.shape)"
   ]
  },
  {
   "cell_type": "code",
   "execution_count": 7,
   "metadata": {},
   "outputs": [
    {
     "name": "stdout",
     "output_type": "stream",
     "text": [
      "[[-2.89729983e+00 -1.76279995e+00 -2.89729856e+00 -3.07179974e+00\n",
      "  -2.89729986e+00 -1.74999738e-02 -2.89729971e+00 -1.35586838e+02]\n",
      " [-2.89729940e+00 -1.76279993e+00 -2.89729841e+00 -3.07179946e+00\n",
      "  -2.89729984e+00 -1.74987259e-02 -2.89729957e+00 -1.30847256e+02]]\n"
     ]
    }
   ],
   "source": [
    "temp1 = np.concatenate([q1, min_dist1.reshape(-1, 1)],axis=1)\n",
    "temp1 = np.sort(temp1, axis=0)\n",
    "print(temp1[:2])"
   ]
  },
  {
   "cell_type": "code",
   "execution_count": 8,
   "metadata": {},
   "outputs": [
    {
     "name": "stdout",
     "output_type": "stream",
     "text": [
      "13.62890084512564\n",
      "-135.586837865258\n",
      "-0.7659127708165016\n"
     ]
    }
   ],
   "source": [
    "print(np.max(temp1[:,-1]))\n",
    "print(np.min(temp1[:,-1]))\n",
    "print(np.mean(temp1[:,-1]))"
   ]
  },
  {
   "cell_type": "code",
   "execution_count": null,
   "metadata": {},
   "outputs": [],
   "source": []
  }
 ],
 "metadata": {
  "kernelspec": {
   "display_name": "junheon",
   "language": "python",
   "name": "python3"
  },
  "language_info": {
   "codemirror_mode": {
    "name": "ipython",
    "version": 3
   },
   "file_extension": ".py",
   "mimetype": "text/x-python",
   "name": "python",
   "nbconvert_exporter": "python",
   "pygments_lexer": "ipython3",
   "version": "3.8.16"
  }
 },
 "nbformat": 4,
 "nbformat_minor": 2
}
